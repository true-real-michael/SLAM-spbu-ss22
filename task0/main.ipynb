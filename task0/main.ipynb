{
 "cells": [
  {
   "cell_type": "code",
   "execution_count": 1,
   "metadata": {
    "collapsed": true
   },
   "outputs": [
    {
     "ename": "ModuleNotFoundError",
     "evalue": "No module named 'open3d'",
     "output_type": "error",
     "traceback": [
      "\u001B[0;31m---------------------------------------------------------------------------\u001B[0m",
      "\u001B[0;31mModuleNotFoundError\u001B[0m                       Traceback (most recent call last)",
      "Input \u001B[0;32mIn [1]\u001B[0m, in \u001B[0;36m<cell line: 1>\u001B[0;34m()\u001B[0m\n\u001B[0;32m----> 1\u001B[0m \u001B[38;5;28;01mimport\u001B[39;00m \u001B[38;5;21;01mopen3d\u001B[39;00m \u001B[38;5;28;01mas\u001B[39;00m \u001B[38;5;21;01mo3d\u001B[39;00m\n\u001B[1;32m      2\u001B[0m \u001B[38;5;28;01mimport\u001B[39;00m \u001B[38;5;21;01mnumpy\u001B[39;00m \u001B[38;5;28;01mas\u001B[39;00m \u001B[38;5;21;01mnp\u001B[39;00m\n\u001B[1;32m      3\u001B[0m \u001B[38;5;28;01mfrom\u001B[39;00m \u001B[38;5;21;01mPIL\u001B[39;00m \u001B[38;5;28;01mimport\u001B[39;00m Image\n",
      "\u001B[0;31mModuleNotFoundError\u001B[0m: No module named 'open3d'"
     ]
    }
   ],
   "source": [
    "import open3d as o3d\n",
    "import numpy as np\n",
    "from PIL import Image"
   ]
  },
  {
   "cell_type": "code",
   "execution_count": 15,
   "metadata": {
    "collapsed": false,
    "pycharm": {
     "name": "#%%\n"
    }
   },
   "outputs": [],
   "source": [
    "K_ = np.matrix([[481.20, 0, 319.50, 0],\n",
    "                [0, -480.00, 239.50, 0],\n",
    "                [0, 0, 1, 0],\n",
    "                [0, 0, 0, 1]])\n",
    "\n",
    "K_inv = np.linalg.inv(K_)\n",
    "\n",
    "# converting a pixel to a pointcloud point\n",
    "def uvd2xyz(u, v, d):\n",
    "    z = d / 5000\n",
    "    xyz1 = z * K_inv @ np.array([u, v, 1, 1 / z]).transpose()\n",
    "    return xyz1[0, 0], xyz1[0, 1], xyz1[0, 2]\n",
    "\n",
    "\n",
    "# converting the images to a list of points and a list of corresponding colors\n",
    "def get_points_and_colors(depths_img, colors_img):\n",
    "    points = [uvd2xyz(u, v, depths_img.getpixel((u, v)))\n",
    "              for u in range(depths_img.size[0]) for v in range(depths_img.size[1])]\n",
    "    colors = [colors_img.getpixel((u, v))\n",
    "              for u in range(colors_img.size[0]) for v in range(colors_img.size[1])]\n",
    "\n",
    "    return np.array(points), np.array(colors) / 256\n"
   ]
  },
  {
   "cell_type": "code",
   "execution_count": 16,
   "metadata": {
    "collapsed": false,
    "pycharm": {
     "name": "#%%\n"
    }
   },
   "outputs": [],
   "source": [
    "depths_img = Image.open('data/depth.png')\n",
    "colors_img = Image.open('data/annot.png')\n",
    "points, colors = get_points_and_colors(depths_img, colors_img)\n",
    "\n",
    "pcd = o3d.geometry.PointCloud()\n",
    "pcd.points = o3d.utility.Vector3dVector(points)\n",
    "pcd.colors = o3d.utility.Vector3dVector(colors)\n",
    "\n",
    "pcd.transform([[-1, 0, 0, 0],\n",
    "               [0, -1, 0, 0],\n",
    "               [0, 0, 1, 0],\n",
    "               [0, 0, 0, -1]])\n",
    "o3d.visualization.draw_geometries([pcd])"
   ]
  },
  {
   "cell_type": "code",
   "execution_count": null,
   "metadata": {
    "collapsed": false,
    "pycharm": {
     "name": "#%%\n"
    }
   },
   "outputs": [],
   "source": []
  }
 ],
 "metadata": {
  "kernelspec": {
   "display_name": "Python 3",
   "language": "python",
   "name": "python3"
  },
  "language_info": {
   "codemirror_mode": {
    "name": "ipython",
    "version": 2
   },
   "file_extension": ".py",
   "mimetype": "text/x-python",
   "name": "python",
   "nbconvert_exporter": "python",
   "pygments_lexer": "ipython2",
   "version": "2.7.6"
  }
 },
 "nbformat": 4,
 "nbformat_minor": 0
}